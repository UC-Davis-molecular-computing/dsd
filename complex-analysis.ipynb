{
 "cells": [
  {
   "cell_type": "markdown",
   "metadata": {},
   "source": [
    "# Complex analysis example"
   ]
  },
  {
   "cell_type": "markdown",
   "metadata": {},
   "source": [
    "Analyze a complex of two strands intended to form a bipedal walker with a duplex torso and single-stranded legs (Shin and Pierce, J Am Chem Soc, 2004).\n",
    "\n",
    "Material: DNA    \n",
    "Temperature: 23 C\n",
    "\n",
    "Calculate the partition function, equilibrium pair probability matrix, MFE proxy structure(s), and a set of suboptimal structures within a specified free energy gap.\n",
    "\n",
    "These calculations can alternatively be performed using Utilities commands (see the Utilities example notebook). "
   ]
  },
  {
   "cell_type": "code",
   "execution_count": 67,
   "metadata": {},
   "outputs": [],
   "source": [
    "# Import NUPACK Python module\n",
    "from nupack import *"
   ]
  },
  {
   "cell_type": "code",
   "execution_count": 68,
   "metadata": {},
   "outputs": [
    {
     "data": {
      "text/html": [
       "<b>Complex results:</b> <table border=\"1\" class=\"dataframe\">\n",
       "  <thead>\n",
       "    <tr style=\"text-align: right;\">\n",
       "      <th>Complex</th>\n",
       "      <th>Pfunc</th>\n",
       "      <th>ΔG (kcal/mol)</th>\n",
       "      <th>MFE (kcal/mol)</th>\n",
       "    </tr>\n",
       "  </thead>\n",
       "  <tbody>\n",
       "    <tr>\n",
       "      <td>(a+b)</td>\n",
       "      <td>3.2970e+4</td>\n",
       "      <td>-6.412</td>\n",
       "      <td>-5.211</td>\n",
       "    </tr>\n",
       "  </tbody>\n",
       "</table>"
      ],
      "text/plain": [
       "Result(complexes={<Complex (a+b)>: nupack.analysis.ComplexResult({model: Model('stacking', 'dna04.json', T=310.15 K), pfunc: 32969.51190, free_energy: -6.411793671569341, mfe_stack: -5.21135139465332, pairs: [[0.6220 0.0000 0.0000 0.0000 0.0000 0.0000 0.0000 0.3780]\n",
       " [0.0000 0.0145 0.0000 0.0000 0.0000 0.0000 0.9855 0.0000]\n",
       " [0.0000 0.0000 0.0145 0.0000 0.0000 0.9855 0.0000 0.0000]\n",
       " [0.0000 0.0000 0.0000 0.6220 0.3780 0.0000 0.0000 0.0000]\n",
       " [0.0000 0.0000 0.0000 0.3780 0.6220 0.0000 0.0000 0.0000]\n",
       " [0.0000 0.0000 0.9855 0.0000 0.0000 0.0145 0.0000 0.0000]\n",
       " [0.0000 0.9855 0.0000 0.0000 0.0000 0.0000 0.0145 0.0000]\n",
       " [0.3780 0.0000 0.0000 0.0000 0.0000 0.0000 0.0000 0.6220]], mfe: [StructureEnergy(Structure('((((+))))'), energy=-5.21135139465332, stack_energy=-5.21135139465332)], subopt: [StructureEnergy(Structure('((((+))))'), energy=-5.21135139465332, stack_energy=-5.21135139465332), StructureEnergy(Structure('.(((+))).'), energy=-5.504890441894531, stack_energy=-5.0813517570495605), StructureEnergy(Structure('(((.+.)))'), energy=-5.5048909187316895, stack_energy=-5.081351280212402), StructureEnergy(Structure('.((.+.)).'), energy=-5.798430442810059, stack_energy=-4.951351642608643)]})})"
      ]
     },
     "execution_count": 68,
     "metadata": {},
     "output_type": "execute_result"
    }
   ],
   "source": [
    "# Define physical model \n",
    "my_model = Model(material='dna', celsius=37)\n",
    "\n",
    "# Define strands\n",
    "# sequence_a = 'AGGG CCCC GGGG GGGT'.replace(' ', '')\n",
    "# sequence_b = 'ACCC CCCC GGGG CCCT'.replace(' ', '')\n",
    "sequence_a = 'AGCT'\n",
    "sequence_b = 'AGCT'\n",
    "a = Strand(sequence_a, name='a')\n",
    "b = Strand(sequence_b, name='b')\n",
    "\n",
    "# Define the complex of interest \n",
    "walker = Complex([a, b])\n",
    "\n",
    "# Define the complex set to contain only one complex\n",
    "my_set = ComplexSet(strands={a: 1e-6, b: 1e-6}, complexes=SetSpec(max_size=0, include=[walker]))\n",
    "\n",
    "# Define the energy gap (kcal/mol) for calculating suboptimal structures\n",
    "gap = 1.1 \n",
    "\n",
    "# Analyze the complex \n",
    "# Calculate pfunc, pairs, mfe, subopt\n",
    "my_result = complex_analysis(my_set, compute=['pfunc', 'pairs', 'mfe', 'subopt'], \n",
    "                             options={'energy_gap': gap}, model=my_model)\n",
    "my_result"
   ]
  },
  {
   "cell_type": "code",
   "execution_count": 69,
   "metadata": {},
   "outputs": [
    {
     "name": "stdout",
     "output_type": "stream",
     "text": [
      "\n",
      "MFE proxy structure(s) for walker (a+b):\n",
      "     0: ((((+)))) (-5.21 kcal/mol)\n",
      "\n",
      "Suboptimal proxy structures for walker (a+b):\n",
      "     0: ((((+)))) (-5.21 kcal/mol)\n",
      "     1: .(((+))). (-5.50 kcal/mol)\n",
      "     2: (((.+.))) (-5.50 kcal/mol)\n",
      "     3: .((.+.)). (-5.80 kcal/mol)\n"
     ]
    }
   ],
   "source": [
    "# MFE proxy structure(s)\n",
    "walker_result = my_result[walker] # result object for complex 'x'\n",
    "print('\\nMFE proxy structure(s) for walker (a+b):')\n",
    "for i, s in enumerate(walker_result.mfe):\n",
    "    print('    %2d: %s (%.2f kcal/mol)' % (i, s.structure, s.energy))\n",
    "\n",
    "print('\\nSuboptimal proxy structures for walker (a+b):')\n",
    "for i, s in enumerate(walker_result.subopt):\n",
    "    print('    %2d: %s (%.2f kcal/mol)' % (i, s.structure, s.energy))"
   ]
  },
  {
   "cell_type": "code",
   "execution_count": 70,
   "metadata": {},
   "outputs": [
    {
     "data": {
      "image/png": "[encoded data removed]",
      "text/plain": [
       "<Figure size 432x288 with 2 Axes>"
      ]
     },
     "metadata": {
      "needs_background": "light"
     },
     "output_type": "display_data"
    }
   ],
   "source": [
    "# Plot equilibrium pair probability matrix\n",
    "import matplotlib.pyplot as plt\n",
    "plt.imshow(walker_result.pairs.to_array())\n",
    "plt.xlabel('Base index')\n",
    "plt.ylabel('Base index')\n",
    "plt.title('Pair probabilities for walker (a+b)')\n",
    "plt.colorbar()\n",
    "plt.clim(0, 1)"
   ]
  },
  {
   "cell_type": "code",
   "execution_count": 71,
   "metadata": {},
   "outputs": [
    {
     "data": {
      "text/plain": [
       "nupack.analysis.ComplexResult({model: Model('stacking', 'dna04.json', T=310.15 K), pfunc: 32969.51190, free_energy: -6.411793671569341, mfe_stack: -5.21135139465332, pairs: [[0.6220 0.0000 0.0000 0.0000 0.0000 0.0000 0.0000 0.3780]\n",
       " [0.0000 0.0145 0.0000 0.0000 0.0000 0.0000 0.9855 0.0000]\n",
       " [0.0000 0.0000 0.0145 0.0000 0.0000 0.9855 0.0000 0.0000]\n",
       " [0.0000 0.0000 0.0000 0.6220 0.3780 0.0000 0.0000 0.0000]\n",
       " [0.0000 0.0000 0.0000 0.3780 0.6220 0.0000 0.0000 0.0000]\n",
       " [0.0000 0.0000 0.9855 0.0000 0.0000 0.0145 0.0000 0.0000]\n",
       " [0.0000 0.9855 0.0000 0.0000 0.0000 0.0000 0.0145 0.0000]\n",
       " [0.3780 0.0000 0.0000 0.0000 0.0000 0.0000 0.0000 0.6220]], mfe: [StructureEnergy(Structure('((((+))))'), energy=-5.21135139465332, stack_energy=-5.21135139465332)], subopt: [StructureEnergy(Structure('((((+))))'), energy=-5.21135139465332, stack_energy=-5.21135139465332), StructureEnergy(Structure('.(((+))).'), energy=-5.504890441894531, stack_energy=-5.0813517570495605), StructureEnergy(Structure('(((.+.)))'), energy=-5.5048909187316895, stack_energy=-5.081351280212402), StructureEnergy(Structure('.((.+.)).'), energy=-5.798430442810059, stack_energy=-4.951351642608643)]})"
      ]
     },
     "execution_count": 71,
     "metadata": {},
     "output_type": "execute_result"
    }
   ],
   "source": [
    "walker_result"
   ]
  },
  {
   "cell_type": "code",
   "execution_count": 72,
   "metadata": {},
   "outputs": [
    {
     "name": "stdout",
     "output_type": "stream",
     "text": [
      "<class 'nupack.analysis.ComplexResult'>\n",
      "<class 'nupack.core.PairsMatrix'>\n",
      "<class 'nupack.analysis.ComplexResult'>\n",
      "8\n",
      "8\n",
      "0.62 0.00 0.00 0.00 0.00 0.00 0.00 0.38 \n",
      "0.00 0.01 0.00 0.00 0.00 0.00 0.99 0.00 \n",
      "0.00 0.00 0.01 0.00 0.00 0.99 0.00 0.00 \n",
      "0.00 0.00 0.00 0.62 0.38 0.00 0.00 0.00 \n",
      "0.00 0.00 0.00 0.38 0.62 0.00 0.00 0.00 \n",
      "0.00 0.00 0.99 0.00 0.00 0.01 0.00 0.00 \n",
      "0.00 0.99 0.00 0.00 0.00 0.00 0.01 0.00 \n",
      "0.38 0.00 0.00 0.00 0.00 0.00 0.00 0.62 \n"
     ]
    }
   ],
   "source": [
    "arr = walker_result.pairs.to_array()\n",
    "print(type(walker_result))\n",
    "print(type(walker_result.pairs))\n",
    "print(type(walker_result))\n",
    "\n",
    "print(len(arr))\n",
    "print(len(arr[0]))\n",
    "import numpy as np\n",
    "import sys\n",
    "# np.set_printoptions(threshold=sys.maxsize) \n",
    "for row in arr:\n",
    "#     print(str(row).replace('\\n', ''))\n",
    "    for col in row:\n",
    "        print('{:.2f}'.format(col), end=' ')\n",
    "    print('')\n",
    "# print(arr)"
   ]
  },
  {
   "cell_type": "code",
   "execution_count": 73,
   "metadata": {},
   "outputs": [
    {
     "name": "stdout",
     "output_type": "stream",
     "text": [
      "[[1 2 3]\n",
      " [4 5 6]\n",
      " [5 9 1]]\n",
      "[[False False False]\n",
      " [False False  True]\n",
      " [False  True False]]\n",
      "[6 9]\n",
      "True\n"
     ]
    }
   ],
   "source": [
    "import numpy as np\n",
    "a = np.array([[1,2,3], [4,5,6], [5,9,1]])\n",
    "print(a)\n",
    "print(a > 5)\n",
    "g5 = a > 5\n",
    "print(a[a > 5])\n",
    "print(np.all(a > -1))\n",
    "\n",
    "\n"
   ]
  },
  {
   "cell_type": "code",
   "execution_count": 74,
   "metadata": {},
   "outputs": [
    {
     "name": "stdout",
     "output_type": "stream",
     "text": [
      "38\n",
      "16\n"
     ]
    }
   ],
   "source": [
    "print(len('TAAAATAAAATAAAATGCGCGCTTTTTGCGCGCTTTTT'))\n",
    "print(len('ATTTTATTTTATTTTA'))"
   ]
  }
 ],
 "metadata": {
  "kernelspec": {
   "display_name": "Python 3",
   "language": "python",
   "name": "python3"
  },
  "language_info": {
   "codemirror_mode": {
    "name": "ipython",
    "version": 3
   },
   "file_extension": ".py",
   "mimetype": "text/x-python",
   "name": "python",
   "nbconvert_exporter": "python",
   "pygments_lexer": "ipython3",
   "version": "3.8.8"
  }
 },
 "nbformat": 4,
 "nbformat_minor": 4
}
